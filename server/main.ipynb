{
 "cells": [
  {
   "cell_type": "code",
   "execution_count": 103,
   "metadata": {},
   "outputs": [],
   "source": [
    "import dspy\n",
    "import json\n",
    "import os\n",
    "import spacy\n",
    "from dotenv import load_dotenv\n",
    "from pydantic import BaseModel\n",
    "from typing import List\n",
    "from datetime import datetime\n",
    "from pymongo import MongoClient\n",
    "from fastapi import FastAPI, HTTPException\n",
    "\n",
    "load_dotenv()\n",
    "\n",
    "GEMINI_API_KEY = os.getenv('GEMINI_API_KEY')\n",
    "MONGODB_URI = os.getenv('MONGODB_URI')"
   ]
  },
  {
   "cell_type": "code",
   "execution_count": 104,
   "metadata": {},
   "outputs": [],
   "source": [
    "# MongoDB Atlas connection\n",
    "client = MongoClient(MONGODB_URI)\n",
    "db = client['renai']\n",
    "collection = db['events']\n",
    "\n",
    "# Load spaCy model\n",
    "nlp = spacy.load(\"en_core_web_sm\")"
   ]
  },
  {
   "cell_type": "code",
   "execution_count": 105,
   "metadata": {},
   "outputs": [
    {
     "name": "stdout",
     "output_type": "stream",
     "text": [
      "Pinged your deployment. You successfully connected to MongoDB!\n"
     ]
    }
   ],
   "source": [
    "# Send a ping to confirm a successful connection\n",
    "try:\n",
    "    client.admin.command('ping')\n",
    "    print(\"Pinged your deployment. You successfully connected to MongoDB!\")\n",
    "except Exception as e:\n",
    "    print(e)"
   ]
  },
  {
   "cell_type": "code",
   "execution_count": 106,
   "metadata": {},
   "outputs": [],
   "source": [
    "lm = dspy.LM('gemini/gemini-2.0-flash-exp', api_key=GEMINI_API_KEY)\n",
    "dspy.configure(lm=lm)"
   ]
  },
  {
   "cell_type": "code",
   "execution_count": 107,
   "metadata": {},
   "outputs": [],
   "source": [
    "class Entity(BaseModel):\n",
    "    entity: str\n",
    "    type: str\n",
    "\n",
    "class EventEntity(BaseModel):\n",
    "    entity: str\n",
    "    type: str\n",
    "    role: str\n",
    "\n",
    "class Event(BaseModel):\n",
    "    action: str\n",
    "    type: str\n",
    "    date: str\n",
    "    location: str\n",
    "    entities: List[EventEntity]"
   ]
  },
  {
   "cell_type": "code",
   "execution_count": null,
   "metadata": {},
   "outputs": [],
   "source": [
    "# Define request and response models\n",
    "class TranscriptRequest(BaseModel):\n",
    "    text: str\n",
    "    speaker: str\n",
    "\n",
    "class QueryRequest(BaseModel):\n",
    "    question: str\n",
    "\n",
    "class EventResponse(BaseModel):\n",
    "    action: str\n",
    "    type: str\n",
    "    date: str\n",
    "    location: str\n",
    "    entities: List[EventEntity]\n",
    "\n",
    "class QueryResponse(BaseModel):\n",
    "    responses: List[str]"
   ]
  },
  {
   "cell_type": "code",
   "execution_count": 108,
   "metadata": {},
   "outputs": [],
   "source": [
    "class ExtractEvents(dspy.Signature):\n",
    "    \"\"\"Extract a list of relevant events, each containing Event type, date, location and participating entities (if any, along with their role in the specific event) information from text, current date and given entities.\"\"\"\n",
    "\n",
    "    text: str = dspy.InputField()\n",
    "    speaker: str = dspy.InputField(desc=\"the speaker of the text\")\n",
    "    entities: List[Entity] = dspy.InputField(desc=\"a list of entities and their metadata\")\n",
    "    current_date: str = dspy.InputField(desc=\"the current date to convert relative dates like 'today', 'yesterday', 'tomorrow' to actual dates\")\n",
    "    \n",
    "    events: List[Event] = dspy.OutputField(desc=\"a list of events being talked about, either happening during the meeting or being referenced to, should NOT include events to happen in the future, and their metadata with fields: action(What Happened), type, date (convert relative dates like 'today', 'yesterday', 'tomorrow' to actual dates), location, entities (fetched from input)\")\n"
   ]
  },
  {
   "cell_type": "code",
   "execution_count": 109,
   "metadata": {},
   "outputs": [],
   "source": [
    "class KnowledgeExtraction(dspy.Module):\n",
    "    def __init__(self):\n",
    "        self.cot2 = dspy.ChainOfThought(ExtractEvents)\n",
    "\n",
    "    def normalize_text(self, text):\n",
    "        # Normalize text to title case\n",
    "        return text.title()\n",
    "\n",
    "    def extract_entities(self, text):\n",
    "        doc = nlp(text)\n",
    "        entities = []\n",
    "        for ent in doc.ents:\n",
    "            normalized_entity = self.normalize_text(ent.text)\n",
    "            entities.append(Entity(entity=normalized_entity, type=ent.label_))\n",
    "        return entities\n",
    "\n",
    "    def forward(self, text, speaker):\n",
    "        entities = self.extract_entities(text)\n",
    "        current_date = datetime.now().strftime('%Y-%m-%d')\n",
    "        events = self.cot2(text=text, speaker=speaker, entities=entities, current_date=current_date)\n",
    "        return events\n",
    "\n",
    "class RAG(dspy.Module):\n",
    "    def __init__(self):\n",
    "        self.respond = dspy.ChainOfThought('context, question -> response')\n",
    "\n",
    "    def forward(self, question):\n",
    "        # Fetch records from MongoDB\n",
    "        records = collection.find()\n",
    "\n",
    "        corpus = []\n",
    "        for record in records:\n",
    "            context = \"\"\n",
    "            for key, value in record.items():\n",
    "                if key == \"_id\":\n",
    "                    continue\n",
    "                # Convert key to proper case\n",
    "                proper_case_key = key.replace('_', ' ').title().replace(' ', '')\n",
    "                context += f\"{proper_case_key}: {value}\\n\"\n",
    "            corpus.append(context)\n",
    "            \n",
    "        embedder = dspy.Embedder('gemini/text-embedding-004')\n",
    "        search = dspy.retrievers.Embeddings(embedder=embedder, corpus=corpus, k=5)\n",
    "        context = search(question).passages\n",
    "        return self.respond(context=context, question=question)\n"
   ]
  },
  {
   "cell_type": "code",
   "execution_count": null,
   "metadata": {},
   "outputs": [],
   "source": [
    "app = FastAPI()"
   ]
  },
  {
   "cell_type": "code",
   "execution_count": null,
   "metadata": {},
   "outputs": [],
   "source": [
    "# Initialize modules\n",
    "knowledge_extraction = KnowledgeExtraction()\n",
    "rag = RAG()"
   ]
  },
  {
   "cell_type": "code",
   "execution_count": null,
   "metadata": {},
   "outputs": [],
   "source": [
    "@app.post(\"/extract-events\", response_model=List[Event])\n",
    "def extract_events(request: TranscriptRequest):\n",
    "    try:\n",
    "        response = knowledge_extraction.forward(text=request.text, speaker=request.speaker)\n",
    "        return response.events\n",
    "    except Exception as e:\n",
    "        raise HTTPException(status_code=500, detail=str(e))\n",
    "\n",
    "@app.post(\"/query-rag\", response_model=str)\n",
    "def query_rag(request: QueryRequest):\n",
    "    try:\n",
    "        responses = rag.forward(question=request.question)\n",
    "        return QueryResponse(responses=responses)\n",
    "    except Exception as e:\n",
    "        raise HTTPException(status_code=500, detail=str(e))\n"
   ]
  }
 ],
 "metadata": {
  "kernelspec": {
   "display_name": "dev",
   "language": "python",
   "name": "python3"
  },
  "language_info": {
   "codemirror_mode": {
    "name": "ipython",
    "version": 3
   },
   "file_extension": ".py",
   "mimetype": "text/x-python",
   "name": "python",
   "nbconvert_exporter": "python",
   "pygments_lexer": "ipython3",
   "version": "3.9.19"
  }
 },
 "nbformat": 4,
 "nbformat_minor": 2
}
