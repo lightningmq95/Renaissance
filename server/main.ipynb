{
 "cells": [
  {
   "cell_type": "code",
   "execution_count": 47,
   "metadata": {},
   "outputs": [],
   "source": [
    "import dspy\n",
    "import os\n",
    "from dotenv import load_dotenv\n",
    "from pydantic import BaseModel\n",
    "from typing import List\n",
    "from datetime import datetime\n",
    "from pymongo import MongoClient\n",
    "\n",
    "\n",
    "\n",
    "load_dotenv()\n",
    "\n",
    "GEMINI_API_KEY = os.getenv('GEMINI_API_KEY')"
   ]
  },
  {
   "cell_type": "code",
   "execution_count": 48,
   "metadata": {},
   "outputs": [],
   "source": [
    "# MongoDB connection\n",
    "client = MongoClient(os.getenv('MONGODB_URI'))\n",
    "db = client['renai']\n",
    "collection = db['events']\n",
    "# # Create a new client and connect to the server\n",
    "# db = client[os.getenv('MONGODB_DB_NAME')]\n",
    "# collection = db[os.getenv('MONGODB_COLLECTION_NAME')]"
   ]
  },
  {
   "cell_type": "code",
   "execution_count": 49,
   "metadata": {},
   "outputs": [
    {
     "name": "stdout",
     "output_type": "stream",
     "text": [
      "Pinged your deployment. You successfully connected to MongoDB!\n"
     ]
    }
   ],
   "source": [
    "# Send a ping to confirm a successful connection\n",
    "try:\n",
    "    client.admin.command('ping')\n",
    "    print(\"Pinged your deployment. You successfully connected to MongoDB!\")\n",
    "except Exception as e:\n",
    "    print(e)"
   ]
  },
  {
   "cell_type": "code",
   "execution_count": 50,
   "metadata": {},
   "outputs": [],
   "source": [
    "lm = dspy.LM('gemini/gemini-2.0-flash-exp', api_key=GEMINI_API_KEY)\n",
    "dspy.configure(lm=lm)"
   ]
  },
  {
   "cell_type": "code",
   "execution_count": 63,
   "metadata": {},
   "outputs": [],
   "source": [
    "\n",
    "# search = dspy.retrievers.Embeddings(embedder=embedder, corpus=corpus, k=topk_docs_to_retrieve)"
   ]
  },
  {
   "cell_type": "code",
   "execution_count": 52,
   "metadata": {},
   "outputs": [],
   "source": [
    "from difflib import SequenceMatcher\n"
   ]
  },
  {
   "cell_type": "code",
   "execution_count": 66,
   "metadata": {},
   "outputs": [],
   "source": [
    "class Entity(BaseModel):\n",
    "    entity: str\n",
    "    type: str\n",
    "\n",
    "\n",
    "class ExtractEntities(dspy.Signature):\n",
    "    \"\"\"Extract structEntitiesured from text.\"\"\"\n",
    "\n",
    "    question: str = dspy.InputField()\n",
    "\n",
    "    entities: List[Entity] = dspy.OutputField(desc=\"a list of entities and their metadata\")\n",
    "\n",
    "class RAG(dspy.Module):\n",
    "    def __init__(self):\n",
    "        self.cot1 = dspy.ChainOfThought(ExtractEntities)\n",
    "        self.respond = dspy.ChainOfThought('context, question -> response')\n",
    "\n",
    "    def forward(self, question):\n",
    "        entities = self.cot1(question=question).entities\n",
    "        # Fetch records from MongoDB\n",
    "        matching_records = []\n",
    "        for doc in collection.find():\n",
    "            for entity in entities:\n",
    "                for doc_entity in doc.get('entities', []):\n",
    "                    similarity = SequenceMatcher(None, entity.entity, doc_entity['entity']).ratio()\n",
    "                    if similarity >= 0.7:\n",
    "                        matching_records.append(doc)\n",
    "                        break  # Stop checking other entities in this document if a match is found\n",
    "                if doc in matching_records:\n",
    "                    break  # Stop checking other entities if a match is found\n",
    "        # print(matching_records)\n",
    "\n",
    "                # Combine the extracted entities and matching records into a single string\n",
    "        corpus = []\n",
    "        for record in matching_records:\n",
    "            context = (\n",
    "                f\"Action: {record.get('action', 'N/A')}\\n\"\n",
    "                f\"Type: {record.get('type', 'N/A')}\\n\"\n",
    "                f\"Date: {record.get('date', 'N/A')}\\n\"\n",
    "                f\"Location: {record.get('location', 'N/A')}\\n\"\n",
    "                f\"Entities:\\n\"\n",
    "            )\n",
    "            context += \"\\n\".join([f\"  - {e['entity']} ({e['type']}, {e['role']})\" for e in record.get('entities', [])])\n",
    "            corpus.append(context)\n",
    "\n",
    "        embedder = dspy.Embedder('gemini/text-embedding-004')\n",
    "        search = dspy.retrievers.Embeddings(embedder=embedder, corpus=corpus, k=5)\n",
    "        context = search(question).passages\n",
    "        return self.respond(context=context, question=question)\n",
    "        \n",
    "        # print(\"Contexts for RAG:\", contexts)\n",
    "\n",
    "\n",
    "      \n",
    "        # print(entities)\n",
    "        # context = search(question).passages\n",
    "        # return self.respond(context=context, question=question)\n"
   ]
  },
  {
   "cell_type": "code",
   "execution_count": 67,
   "metadata": {},
   "outputs": [
    {
     "data": {
      "text/plain": [
       "Prediction(\n",
       "    reasoning='The context states that Apple Inc. announced the iPhone 14 on 2025-01-18. The question asks when the iPhone 14 was released. Therefore, the answer is 2025-01-18.',\n",
       "    response='The iPhone 14 was announced on 2025-01-18.'\n",
       ")"
      ]
     },
     "execution_count": 67,
     "metadata": {},
     "output_type": "execute_result"
    }
   ],
   "source": [
    "rag = RAG()\n",
    "rag(question=\"When did the IPhone 14 get released?\")"
   ]
  }
 ],
 "metadata": {
  "kernelspec": {
   "display_name": "dev",
   "language": "python",
   "name": "python3"
  },
  "language_info": {
   "codemirror_mode": {
    "name": "ipython",
    "version": 3
   },
   "file_extension": ".py",
   "mimetype": "text/x-python",
   "name": "python",
   "nbconvert_exporter": "python",
   "pygments_lexer": "ipython3",
   "version": "3.9.19"
  }
 },
 "nbformat": 4,
 "nbformat_minor": 2
}
