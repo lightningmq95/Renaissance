{
 "cells": [
  {
   "cell_type": "code",
   "execution_count": 47,
   "metadata": {},
   "outputs": [],
   "source": [
    "import dspy\n",
    "import os\n",
    "from dotenv import load_dotenv\n",
    "from pydantic import BaseModel\n",
    "from typing import List\n",
    "from datetime import datetime\n",
    "from pymongo import MongoClient\n",
    "\n",
    "load_dotenv()\n",
    "\n",
    "GEMINI_API_KEY = os.getenv('GEMINI_API_KEY')"
   ]
  },
  {
   "cell_type": "code",
   "execution_count": 89,
   "metadata": {},
   "outputs": [],
   "source": [
    "# MongoDB connection\n",
    "client = MongoClient(os.getenv('MONGODB_URI'))\n",
    "db = client['renai']\n",
    "collection = db['todos']"
   ]
  },
  {
   "cell_type": "code",
   "execution_count": 49,
   "metadata": {},
   "outputs": [
    {
     "name": "stdout",
     "output_type": "stream",
     "text": [
      "Pinged your deployment. You successfully connected to MongoDB!\n"
     ]
    }
   ],
   "source": [
    "# Send a ping to confirm a successful connection\n",
    "try:\n",
    "    client.admin.command('ping')\n",
    "    print(\"Pinged your deployment. You successfully connected to MongoDB!\")\n",
    "except Exception as e:\n",
    "    print(e)"
   ]
  },
  {
   "cell_type": "code",
   "execution_count": 50,
   "metadata": {},
   "outputs": [],
   "source": [
    "lm = dspy.LM('gemini/gemini-2.0-flash-exp', api_key=GEMINI_API_KEY)\n",
    "dspy.configure(lm=lm)"
   ]
  },
  {
   "cell_type": "code",
   "execution_count": 101,
   "metadata": {},
   "outputs": [],
   "source": [
    "class RAG(dspy.Module):\n",
    "    def __init__(self):\n",
    "        self.respond = dspy.ChainOfThought('context, question -> response')\n",
    "\n",
    "    def forward(self, question):\n",
    "        # Fetch records from MongoDB\n",
    "        records = collection.find()\n",
    "\n",
    "        corpus = []\n",
    "        for record in records:\n",
    "            context = \"\"\n",
    "            for key, value in record.items():\n",
    "                if key == \"_id\":\n",
    "                    continue\n",
    "                # Convert key to proper case\n",
    "                proper_case_key = key.replace('_', ' ').title().replace(' ', '')\n",
    "                context += f\"{proper_case_key}: {value}\\n\"\n",
    "            corpus.append(context)\n",
    "            \n",
    "        print(corpus)\n",
    "        embedder = dspy.Embedder('gemini/text-embedding-004')\n",
    "        search = dspy.retrievers.Embeddings(embedder=embedder, corpus=corpus, k=5)\n",
    "        context = search(question).passages\n",
    "        return self.respond(context=context, question=question)\n"
   ]
  },
  {
   "cell_type": "code",
   "execution_count": 102,
   "metadata": {},
   "outputs": [
    {
     "name": "stdout",
     "output_type": "stream",
     "text": [
      "['Description: Update onboarding process to include shared document\\nAssignee: Speaker 1\\nDeadline: None\\nStatus: pending\\nMentionedBy: Speaker 1\\n', 'Description: Follow up on interview spreadsheet customer contacts\\nAssignee: Unassigned\\nDeadline: None\\nStatus: pending\\nMentionedBy: Speaker 2\\n', 'Description: Run engagement survey monthly in Q3\\nAssignee: Speaker 1\\nDeadline: None\\nStatus: pending\\nMentionedBy: Speaker 1\\n', 'Description: Resend engagement survey to Speaker 3\\nAssignee: Jessica\\nDeadline: None\\nStatus: pending\\nMentionedBy: Speaker 1\\n', 'Description: Resend engagement survey to Speaker 4\\nAssignee: Jessica\\nDeadline: None\\nStatus: pending\\nMentionedBy: Speaker 1\\n']\n"
     ]
    },
    {
     "data": {
      "text/plain": [
       "Prediction(\n",
       "    reasoning='The question asks who needs to be resent the engagement survey. I need to look for tasks that have \"engagement survey\" in the description and identify the associated speakers. Tasks [1] and [2] mention resending the engagement survey. Task [1] is for Speaker 3 and Task [2] is for Speaker 4.',\n",
       "    response='You need to resend the engagement survey to Speaker 3 and Speaker 4.'\n",
       ")"
      ]
     },
     "execution_count": 102,
     "metadata": {},
     "output_type": "execute_result"
    }
   ],
   "source": [
    "rag = RAG()\n",
    "rag(question=\"Who do i need to re send engagement survey to?\")"
   ]
  }
 ],
 "metadata": {
  "kernelspec": {
   "display_name": "dev",
   "language": "python",
   "name": "python3"
  },
  "language_info": {
   "codemirror_mode": {
    "name": "ipython",
    "version": 3
   },
   "file_extension": ".py",
   "mimetype": "text/x-python",
   "name": "python",
   "nbconvert_exporter": "python",
   "pygments_lexer": "ipython3",
   "version": "3.9.19"
  }
 },
 "nbformat": 4,
 "nbformat_minor": 2
}
