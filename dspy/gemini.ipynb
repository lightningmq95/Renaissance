{
 "cells": [
  {
   "cell_type": "code",
   "execution_count": null,
   "metadata": {},
   "outputs": [
    {
     "name": "stderr",
     "output_type": "stream",
     "text": [
      "/home/devastatingrpg/miniconda3/envs/dev/lib/python3.9/site-packages/tqdm/auto.py:21: TqdmWarning: IProgress not found. Please update jupyter and ipywidgets. See https://ipywidgets.readthedocs.io/en/stable/user_install.html\n",
      "  from .autonotebook import tqdm as notebook_tqdm\n"
     ]
    },
    {
     "data": {
      "text/plain": [
       "Prediction(\n",
       "    reasoning='When two dice are tossed, there are 6 possible outcomes for each die, resulting in a total of 6 * 6 = 36 possible outcomes. The only way to get a sum of 2 is if both dice show a 1. This is only one specific outcome out of the 36 possible outcomes. Therefore, the probability is 1/36.',\n",
       "    answer=0.027777777777777776\n",
       ")"
      ]
     },
     "execution_count": 1,
     "metadata": {},
     "output_type": "execute_result"
    }
   ],
   "source": [
    "import dspy\n",
    "import os\n",
    "from dotenv import load_dotenv\n",
    "from pydantic import BaseModel\n",
    "from typing import List\n",
    "from datetime import datetime\n",
    "\n",
    "\n",
    "load_dotenv()\n",
    "\n",
    "GEMINI_API_KEY = os.getenv('GEMINI_API_KEY')\n",
    "\n",
    "lm = dspy.LM('gemini/gemini-2.0-flash-exp', api_key=GEMINI_API_KEY)\n",
    "dspy.configure(lm=lm)\n",
    "\n",
    "# lm(\"Say this is a test!\", temperature=0.7)  # => ['This is a test!']\n",
    "# lm(messages=[{\"role\": \"user\", \"content\": \"Say this is a test!\"}])  # => ['This is a test!']\n",
    "\n",
    "math = dspy.ChainOfThought(\"question -> answer: float\")\n",
    "math(question=\"Two dice are tossed. What is the probability that the sum equals two?\")"
   ]
  },
  {
   "cell_type": "code",
   "execution_count": null,
   "metadata": {},
   "outputs": [
    {
     "name": "stdout",
     "output_type": "stream",
     "text": [
      "Prediction(\n",
      "    reasoning='The text describes an announcement event by Apple Inc. regarding their new product, iPhone 14. The date of the announcement is \"today\", which translates to 2025-01-18 based on the current date. The location is not explicitly mentioned, but we can assume it\\'s a general announcement, so we\\'ll use \"global\". The entities involved are Apple Inc. (company), iPhone 14 (product), and Tim Cook (person). Tim Cook\\'s role is that of a speaker or presenter.',\n",
      "    events=[Event(type='announcement', date='2025-01-18', location='global', entities=[EventEntity(entity='Apple Inc.', type='company', role='organization'), EventEntity(entity='iPhone 14', type='product', role='product'), EventEntity(entity='Tim Cook', type='person', role='speaker')])]\n",
      ")\n"
     ]
    }
   ],
   "source": [
    "class Entity(BaseModel):\n",
    "    entity: str\n",
    "    type: str\n",
    "\n",
    "class EventEntity(BaseModel):\n",
    "    entity: str\n",
    "    type: str\n",
    "    role: str\n",
    "\n",
    "class Event(BaseModel):\n",
    "    type: str\n",
    "    date: str\n",
    "    location: str\n",
    "    entities: List[EventEntity]\n",
    "\n",
    "class ExtractEntities(dspy.Signature):\n",
    "    \"\"\"Extract structEntitiesured from text.\"\"\"\n",
    "\n",
    "    text: str = dspy.InputField()\n",
    "\n",
    "    entities: List[Entity] = dspy.OutputField(desc=\"a list of entities and their metadata\")\n",
    "\n",
    "class ExtractEvents(dspy.Signature):\n",
    "    \"\"\"Extract Event type, date, location and participating entities (along with their role in the specific event) information from text, current date and given entities.\"\"\"\n",
    "\n",
    "    text: str = dspy.InputField()\n",
    "    entities: List[Entity] = dspy.InputField(desc=\"a list of entities and their metadata\")\n",
    "    current_date: str = dspy.InputField(desc=\"the current date to convert relative dates like 'today', 'yesterday', 'tomorrow' to actual dates\")\n",
    "    \n",
    "    events: List[Event] = dspy.OutputField(desc=\"a list of events and their metadata with fields: type, date (convert relative dates like 'today', 'yesterday', 'tomorrow' to actual dates), location, entities (fetched from input)\")\n",
    "\n",
    "\n",
    "class KnowledgeExtraction(dspy.Module):\n",
    "    def __init__(self):\n",
    "      self.cot1 = dspy.ChainOfThought(ExtractEntities)\n",
    "      self.cot2 = dspy.ChainOfThought(ExtractEvents)\n",
    "\n",
    "    def forward(self, text):\n",
    "        entities = self.cot1(text=text)\n",
    "        current_date = datetime.now().strftime('%Y-%m-%d')\n",
    "        events = self.cot2(text=text, entities=entities, current_date=current_date)\n",
    "        return events\n",
    "    \n",
    "module = KnowledgeExtraction()\n",
    "\n",
    "text = \"Apple Inc. announced its latest iPhone 14 today.\" \\\n",
    "    \"The CEO, Tim Cook, highlighted its new features in a press release.\"\n",
    "response = module(text=text)\n",
    "print(response)"
   ]
  },
  {
   "cell_type": "code",
   "execution_count": 21,
   "metadata": {},
   "outputs": [
    {
     "name": "stdout",
     "output_type": "stream",
     "text": [
      "\n",
      "\n",
      "\n",
      "\n",
      "\u001b[34m[2025-01-18T11:29:46.307701]\u001b[0m\n",
      "\n",
      "\u001b[31mSystem message:\u001b[0m\n",
      "\n",
      "Your input fields are:\n",
      "1. `text` (str)\n",
      "2. `entities` (list[Entity]): a list of entities and their metadata\n",
      "\n",
      "Your output fields are:\n",
      "1. `reasoning` (str)\n",
      "2. `events` (list[Event]): a list of events and their metadata with fields: type, date (convert relative dates like 'today', 'yesterday', 'tomorrow' to actual dates), location, entities (fetched from input)\n",
      "\n",
      "All interactions will be structured in the following way, with the appropriate values filled in.\n",
      "\n",
      "Inputs will have the following structure:\n",
      "\n",
      "[[ ## text ## ]]\n",
      "{text}\n",
      "\n",
      "[[ ## entities ## ]]\n",
      "{entities}\n",
      "\n",
      "Outputs will be a JSON object with the following fields.\n",
      "\n",
      "{\n",
      "  \"reasoning\": \"{reasoning}\",\n",
      "  \"events\": \"{events}        # note: the value you produce must be pareseable according to the following JSON schema: {\\\"$defs\\\": {\\\"Event\\\": {\\\"properties\\\": {\\\"type\\\": {\\\"title\\\": \\\"Type\\\", \\\"type\\\": \\\"string\\\"}, \\\"date\\\": {\\\"title\\\": \\\"Date\\\", \\\"type\\\": \\\"string\\\"}, \\\"location\\\": {\\\"title\\\": \\\"Location\\\", \\\"type\\\": \\\"string\\\"}, \\\"entities\\\": {\\\"items\\\": {\\\"$ref\\\": \\\"#/$defs/EventEntity\\\"}, \\\"title\\\": \\\"Entities\\\", \\\"type\\\": \\\"array\\\"}}, \\\"required\\\": [\\\"type\\\", \\\"date\\\", \\\"location\\\", \\\"entities\\\"], \\\"title\\\": \\\"Event\\\", \\\"type\\\": \\\"object\\\"}, \\\"EventEntity\\\": {\\\"properties\\\": {\\\"entity\\\": {\\\"title\\\": \\\"Entity\\\", \\\"type\\\": \\\"string\\\"}, \\\"type\\\": {\\\"title\\\": \\\"Type\\\", \\\"type\\\": \\\"string\\\"}, \\\"role\\\": {\\\"title\\\": \\\"Role\\\", \\\"type\\\": \\\"string\\\"}}, \\\"required\\\": [\\\"entity\\\", \\\"type\\\", \\\"role\\\"], \\\"title\\\": \\\"EventEntity\\\", \\\"type\\\": \\\"object\\\"}}, \\\"items\\\": {\\\"$ref\\\": \\\"#/$defs/Event\\\"}, \\\"type\\\": \\\"array\\\"}\"\n",
      "}\n",
      "\n",
      "In adhering to this structure, your objective is: \n",
      "        Extract structured information from text.\n",
      "\n",
      "\n",
      "\u001b[31mUser message:\u001b[0m\n",
      "\n",
      "[[ ## text ## ]]\n",
      "Apple Inc. announced its latest iPhone 14 today.The CEO, Tim Cook, highlighted its new features in a press release.\n",
      "\n",
      "[[ ## entities ## ]]\n",
      "Prediction(\n",
      "    reasoning='The text mentions \"Apple Inc.\" as a company, \"iPhone 14\" as a product, and \"Tim Cook\" as a person (specifically, the CEO). These are the entities that can be extracted.',\n",
      "    entities=[Entity(entity='Apple Inc.', type='company'), Entity(entity='iPhone 14', type='product'), Entity(entity='Tim Cook', type='person')]\n",
      ")\n",
      "\n",
      "Respond with a JSON object in the following order of fields: `reasoning`, then `events` (must be formatted as a valid Python list[Event]).\n",
      "\n",
      "\n",
      "\u001b[31mResponse:\u001b[0m\n",
      "\n",
      "\u001b[32m{\n",
      "  \"reasoning\": \"The text describes an announcement event by Apple Inc. regarding their new product, iPhone 14, with Tim Cook as the CEO involved in the press release. The event type is 'product launch', the date is 'today', and the location is not specified, so it's 'unspecified'. The entities involved are Apple Inc., iPhone 14, and Tim Cook.\",\n",
      "  \"events\": [\n",
      "    {\n",
      "      \"type\": \"product launch\",\n",
      "      \"date\": \"2024-02-29\",\n",
      "      \"location\": \"unspecified\",\n",
      "      \"entities\": [\n",
      "        {\n",
      "          \"entity\": \"Apple Inc.\",\n",
      "          \"type\": \"company\",\n",
      "          \"role\": \"organization\"\n",
      "        },\n",
      "        {\n",
      "          \"entity\": \"iPhone 14\",\n",
      "          \"type\": \"product\",\n",
      "          \"role\": \"product\"\n",
      "        },\n",
      "        {\n",
      "          \"entity\": \"Tim Cook\",\n",
      "          \"type\": \"person\",\n",
      "          \"role\": \"person\"\n",
      "        }\n",
      "      ]\n",
      "    }\n",
      "  ]\n",
      "}\u001b[0m\n",
      "\n",
      "\n",
      "\n",
      "\n",
      "\n"
     ]
    }
   ],
   "source": [
    "lm.inspect_history()"
   ]
  },
  {
   "cell_type": "code",
   "execution_count": null,
   "metadata": {},
   "outputs": [],
   "source": []
  }
 ],
 "metadata": {
  "kernelspec": {
   "display_name": "dev",
   "language": "python",
   "name": "python3"
  },
  "language_info": {
   "codemirror_mode": {
    "name": "ipython",
    "version": 3
   },
   "file_extension": ".py",
   "mimetype": "text/x-python",
   "name": "python",
   "nbconvert_exporter": "python",
   "pygments_lexer": "ipython3",
   "version": "3.9.19"
  }
 },
 "nbformat": 4,
 "nbformat_minor": 2
}
